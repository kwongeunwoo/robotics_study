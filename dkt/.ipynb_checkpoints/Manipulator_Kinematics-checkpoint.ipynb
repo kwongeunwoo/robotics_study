{
 "cells": [
  {
   "cell_type": "code",
   "execution_count": 72,
   "id": "4942bc57-baf7-4a4f-927d-64e594ecf4f3",
   "metadata": {},
   "outputs": [],
   "source": [
    "# numpy provides import array and linear algebra utilities\n",
    "import numpy as np\n",
    "\n",
    "# the robotics toolbox provides robotics specific functionality\n",
    "import roboticstoolbox as rtb\n",
    "\n",
    "# spatial math provides objects for representing transformations\n",
    "import spatialmath as sm"
   ]
  },
  {
   "cell_type": "markdown",
   "id": "f55bfbf0-13f4-4c1a-8bd5-d7ab12398fa1",
   "metadata": {},
   "source": [
    "# 1.1 The Elementary Transform Sequence"
   ]
  },
  {
   "cell_type": "code",
   "execution_count": 73,
   "id": "731ff374-9c39-4021-8ba6-607113d62ad3",
   "metadata": {},
   "outputs": [
    {
     "name": "stdout",
     "output_type": "stream",
     "text": [
      "Rx(q)\n",
      "Rx(90°)\n"
     ]
    }
   ],
   "source": [
    "# 변수로 Rotation Matrix 선언하기\n",
    "rx_var = rtb.ET.Rx()\n",
    "# 상수로 Rotation Matrix 선언하기\n",
    "rx_cons = rtb.ET.Rx(np.pi / 2)\n",
    "\n",
    "print(rx_var)\n",
    "print(rx_cons)"
   ]
  },
  {
   "cell_type": "code",
   "execution_count": 74,
   "id": "53d52105-4585-472e-8323-6b6482eaf193",
   "metadata": {},
   "outputs": [
    {
     "name": "stdout",
     "output_type": "stream",
     "text": [
      "==============================\n",
      "transform_var:\n",
      "[[ 1.  0.  0.  0.]\n",
      " [ 0.  1. -0.  0.]\n",
      " [ 0.  0.  1.  0.]\n",
      " [ 0.  0.  0.  1.]]\n",
      "\n",
      "==============================\n",
      "transform_cons:\n",
      "[[ 1.000000e+00  0.000000e+00  0.000000e+00  0.000000e+00]\n",
      " [ 0.000000e+00  6.123234e-17 -1.000000e+00  0.000000e+00]\n",
      " [ 0.000000e+00  1.000000e+00  6.123234e-17  0.000000e+00]\n",
      " [ 0.000000e+00  0.000000e+00  0.000000e+00  1.000000e+00]]\n",
      "\n",
      "==============================\n",
      "Type of transformation matrix:\n",
      "<class 'numpy.ndarray'>\n",
      "\n",
      "==============================\n",
      "sm_transform_var: \n",
      "  \u001b[38;5;1m 1       \u001b[0m \u001b[38;5;1m 0       \u001b[0m \u001b[38;5;1m 0       \u001b[0m \u001b[38;5;4m 0       \u001b[0m  \u001b[0m\n",
      "  \u001b[38;5;1m 0       \u001b[0m \u001b[38;5;1m 1       \u001b[0m \u001b[38;5;1m 0       \u001b[0m \u001b[38;5;4m 0       \u001b[0m  \u001b[0m\n",
      "  \u001b[38;5;1m 0       \u001b[0m \u001b[38;5;1m 0       \u001b[0m \u001b[38;5;1m 1       \u001b[0m \u001b[38;5;4m 0       \u001b[0m  \u001b[0m\n",
      "  \u001b[38;5;244m 0       \u001b[0m \u001b[38;5;244m 0       \u001b[0m \u001b[38;5;244m 0       \u001b[0m \u001b[38;5;244m 1       \u001b[0m  \u001b[0m\n",
      "\n",
      "\n",
      "==============================\n",
      "sm_transform_cons: \n",
      "  \u001b[38;5;1m 1       \u001b[0m \u001b[38;5;1m 0       \u001b[0m \u001b[38;5;1m 0       \u001b[0m \u001b[38;5;4m 0       \u001b[0m  \u001b[0m\n",
      "  \u001b[38;5;1m 0       \u001b[0m \u001b[38;5;1m 0       \u001b[0m \u001b[38;5;1m-1       \u001b[0m \u001b[38;5;4m 0       \u001b[0m  \u001b[0m\n",
      "  \u001b[38;5;1m 0       \u001b[0m \u001b[38;5;1m 1       \u001b[0m \u001b[38;5;1m 0       \u001b[0m \u001b[38;5;4m 0       \u001b[0m  \u001b[0m\n",
      "  \u001b[38;5;244m 0       \u001b[0m \u001b[38;5;244m 0       \u001b[0m \u001b[38;5;244m 0       \u001b[0m \u001b[38;5;244m 1       \u001b[0m  \u001b[0m\n",
      "\n",
      "\n",
      "==============================\n",
      "Type of SE3 transformation matrix:\n",
      "<class 'spatialmath.pose3d.SE3'>\n",
      "\n"
     ]
    }
   ],
   "source": [
    "# Homogeneous Transformation Matrix 추출\n",
    "transform_var = rx_var.A()\n",
    "transform_cons = rx_cons.A()\n",
    "\n",
    "print(\"=\"*30)\n",
    "print(\"transform_var:\")\n",
    "print(transform_var)\n",
    "print()\n",
    "\n",
    "print(\"=\"*30)\n",
    "print(\"transform_cons:\")\n",
    "print(transform_cons)\n",
    "print()\n",
    "\n",
    "\n",
    "# type 확인\n",
    "print(\"=\"*30)\n",
    "print(\"Type of transformation matrix:\")\n",
    "print(type(transform_var))\n",
    "print()\n",
    "\n",
    "\n",
    "# spatialmath package를 이용해서 SE3로 추출\n",
    "sm_transform_var = sm.SE3(transform_var)\n",
    "sm_transform_cons = sm.SE3(transform_cons)\n",
    "\n",
    "\n",
    "print(\"=\"*30)\n",
    "print(\"sm_transform_var: \")\n",
    "print(sm_transform_var)\n",
    "print()\n",
    "\n",
    "print(\"=\"*30)\n",
    "print(\"sm_transform_cons: \")\n",
    "print(sm_transform_cons)\n",
    "print()\n",
    "\n",
    "# type 확인\n",
    "print(\"=\"*30)\n",
    "print(\"Type of SE3 transformation matrix:\")\n",
    "print(type(sm_transform_var))\n",
    "print()"
   ]
  },
  {
   "cell_type": "code",
   "execution_count": 75,
   "id": "2bdf9062-ebb8-415a-9834-705114fe1b18",
   "metadata": {},
   "outputs": [
    {
     "name": "stdout",
     "output_type": "stream",
     "text": [
      "Resulting SE3 at 45 degrees: \n",
      "  \u001b[38;5;1m 1       \u001b[0m \u001b[38;5;1m 0       \u001b[0m \u001b[38;5;1m 0       \u001b[0m \u001b[38;5;4m 0       \u001b[0m  \u001b[0m\n",
      "  \u001b[38;5;1m 0       \u001b[0m \u001b[38;5;1m 0.7071  \u001b[0m \u001b[38;5;1m-0.7071  \u001b[0m \u001b[38;5;4m 0       \u001b[0m  \u001b[0m\n",
      "  \u001b[38;5;1m 0       \u001b[0m \u001b[38;5;1m 0.7071  \u001b[0m \u001b[38;5;1m 0.7071  \u001b[0m \u001b[38;5;4m 0       \u001b[0m  \u001b[0m\n",
      "  \u001b[38;5;244m 0       \u001b[0m \u001b[38;5;244m 0       \u001b[0m \u001b[38;5;244m 0       \u001b[0m \u001b[38;5;244m 1       \u001b[0m  \u001b[0m\n",
      "\n"
     ]
    }
   ],
   "source": [
    "# 예시. x축으로 45도 회전하는 Homogeneous Transformation Matrix 구하기\n",
    "q = np.pi / 4\n",
    "Rotation_x = rtb.ET.Rx()\n",
    "Transformation_mat = Rotation_x.A(q)\n",
    "sm_Transformation_mat = sm.SE3(Transformation_mat)\n",
    "\n",
    "print(f\"Resulting SE3 at 45 degrees: \\n{sm_Transformation_mat}\")"
   ]
  },
  {
   "cell_type": "code",
   "execution_count": 76,
   "id": "82abb75e-08d5-43d4-b22f-d6ce06b3f53b",
   "metadata": {},
   "outputs": [
    {
     "name": "stdout",
     "output_type": "stream",
     "text": [
      "  \u001b[38;5;1m 1       \u001b[0m \u001b[38;5;1m 0       \u001b[0m \u001b[38;5;1m 0       \u001b[0m \u001b[38;5;4m 5       \u001b[0m  \u001b[0m\n",
      "  \u001b[38;5;1m 0       \u001b[0m \u001b[38;5;1m 1       \u001b[0m \u001b[38;5;1m 0       \u001b[0m \u001b[38;5;4m 0       \u001b[0m  \u001b[0m\n",
      "  \u001b[38;5;1m 0       \u001b[0m \u001b[38;5;1m 0       \u001b[0m \u001b[38;5;1m 1       \u001b[0m \u001b[38;5;4m 0       \u001b[0m  \u001b[0m\n",
      "  \u001b[38;5;244m 0       \u001b[0m \u001b[38;5;244m 0       \u001b[0m \u001b[38;5;244m 0       \u001b[0m \u001b[38;5;244m 1       \u001b[0m  \u001b[0m\n",
      "\n"
     ]
    }
   ],
   "source": [
    "# Translation. x축으로의 translation(ex: prismatic joints)\n",
    "q = 5 # 5m\n",
    "Translation_x = rtb.ET.tx()\n",
    "\n",
    "Transformation_mat = Translation_x.A(q)\n",
    "# Transformation_mat = rtb.ET.tx(q)이렇게 직접 넣어도 됨\n",
    "\n",
    "sm_Translation_x = sm.SE3(Transformation_mat)\n",
    "print(sm_Translation_x)\n"
   ]
  },
  {
   "cell_type": "code",
   "execution_count": 77,
   "id": "d44b1fc4-ef9c-49c2-bb9f-268fd617bfa0",
   "metadata": {},
   "outputs": [],
   "source": [
    "# ETs of Franka Emika Panda"
   ]
  },
  {
   "cell_type": "markdown",
   "id": "60464a27-5ac4-44d4-a948-5c419d3790ee",
   "metadata": {},
   "source": [
    "![FR3 ETS](image/Fr3.png)"
   ]
  },
  {
   "cell_type": "code",
   "execution_count": 78,
   "id": "0c6ee323-b83b-4d23-8c37-4247e6b48381",
   "metadata": {},
   "outputs": [
    {
     "name": "stdout",
     "output_type": "stream",
     "text": [
      "panda = E1 * E2 * E3 * E4 * E5 * E6 * E7 * E8 * E9 * E10 * E11 * E12 * E13 * E14 * E15 : \n",
      "tz(0.333) ⊕ Rz(q0) ⊕ Ry(q1) ⊕ tz(0.316) ⊕ Rz(q2) ⊕ tx(0.0825) ⊕ Ry(-q3) ⊕ tx(-0.0825) ⊕ tz(0.384) ⊕ Rz(q4) ⊕ Ry(-q5) ⊕ tx(0.088) ⊕ Rx(180°) ⊕ tz(0.107) ⊕ Rz(q6)\n",
      "\n",
      "panda number of joints: 7\n",
      "\n",
      "panda number of ETs: 15\n",
      "\n",
      "specific ET -> panda[i], example panda[14]: Rz(q6)\n",
      "\n",
      "panda.joints():\n",
      "[ET.Rz(jindex=0), ET.Ry(jindex=1), ET.Rz(jindex=2), ET.Ry(jindex=3, flip=True), ET.Rz(jindex=4), ET.Ry(jindex=5, flip=True), ET.Rz(jindex=6)]\n",
      "\n",
      "All variable liks in the Panda ETS:\n",
      "<bound method BaseETS.joint_idx of [ET.tz(eta=0.333), ET.Rz(jindex=0), ET.Ry(jindex=1), ET.tz(eta=0.316), ET.Rz(jindex=2), ET.tx(eta=0.0825), ET.Ry(jindex=3, flip=True), ET.tx(eta=-0.0825), ET.tz(eta=0.384), ET.Rz(jindex=4), ET.Ry(jindex=5, flip=True), ET.tx(eta=0.088), ET.Rx(eta=3.141592653589793), ET.tz(eta=0.107), ET.Rz(jindex=6)]>\n",
      "\n",
      "The first variable joint has a jindex :\n",
      "0\n",
      "\n"
     ]
    }
   ],
   "source": [
    "E1 = rtb.ET.tz(0.333)\n",
    "E2 = rtb.ET.Rz()\n",
    "E3 = rtb.ET.Ry()\n",
    "E4 = rtb.ET.tz(0.316)\n",
    "E5 = rtb.ET.Rz()\n",
    "E6 = rtb.ET.tx(0.0825)\n",
    "E7 = rtb.ET.Ry(flip=True)\n",
    "E8 = rtb.ET.tx(-0.0825)\n",
    "E9 = rtb.ET.tz(0.384)\n",
    "E10 = rtb.ET.Rz()\n",
    "E11 = rtb.ET.Ry(flip=True)\n",
    "E12 = rtb.ET.tx(0.088)\n",
    "E13 = rtb.ET.Rx(np.pi)\n",
    "E14 = rtb.ET.tz(0.107)\n",
    "E15 = rtb.ET.Rz()\n",
    "\n",
    "# We can make an ETS representing a Panda by incorprating all 15 ETs into an ETS\n",
    "panda = E1 * E2 * E3 * E4 * E5 * E6 * E7 * E8 * E9 * E10 * E11 * E12 * E13 * E14 * E15\n",
    "\n",
    "# View the ETS\n",
    "print(\"panda = E1 * E2 * E3 * E4 * E5 * E6 * E7 * E8 * E9 * E10 * E11 * E12 * E13 * E14 * E15 : \")\n",
    "print(panda)\n",
    "print()\n",
    "\n",
    "print(\"panda number of joints:\", panda.n)\n",
    "print()\n",
    "\n",
    "print(\"panda number of ETs:\", panda.m)\n",
    "print()\n",
    "\n",
    "print(\"specific ET -> panda[i], example panda[14]:\", panda[14])\n",
    "print()\n",
    "\n",
    "\n",
    "print(\"panda.joints():\")\n",
    "print(panda.joints())\n",
    "print()\n",
    "\n",
    "print(\"All variable liks in the Panda ETS:\")\n",
    "print(panda.joint_idx)\n",
    "print()\n",
    "\n",
    "print(\"The first variable joint has a jindex :\")\n",
    "print(panda[1].jindex)\n",
    "print()"
   ]
  },
  {
   "cell_type": "markdown",
   "id": "5dcadb00-687b-4276-b5a6-28d6a01bab7e",
   "metadata": {},
   "source": [
    "# 1.2 Forward Kinematics"
   ]
  },
  {
   "cell_type": "code",
   "execution_count": 79,
   "id": "45292c2f-2878-4dc5-b5a8-e301820f88dd",
   "metadata": {},
   "outputs": [
    {
     "name": "stdout",
     "output_type": "stream",
     "text": [
      "  \u001b[38;5;1m 0.7003  \u001b[0m \u001b[38;5;1m-0.7068  \u001b[0m \u001b[38;5;1m 0.09983 \u001b[0m \u001b[38;5;4m 0.4737  \u001b[0m  \u001b[0m\n",
      "  \u001b[38;5;1m-0.7104  \u001b[0m \u001b[38;5;1m-0.7038  \u001b[0m \u001b[38;5;1m 0       \u001b[0m \u001b[38;5;4m 0       \u001b[0m  \u001b[0m\n",
      "  \u001b[38;5;1m 0.07027 \u001b[0m \u001b[38;5;1m-0.07092 \u001b[0m \u001b[38;5;1m-0.995   \u001b[0m \u001b[38;5;4m 0.5155  \u001b[0m  \u001b[0m\n",
      "  \u001b[38;5;244m 0       \u001b[0m \u001b[38;5;244m 0       \u001b[0m \u001b[38;5;244m 0       \u001b[0m \u001b[38;5;244m 1       \u001b[0m  \u001b[0m\n",
      "\n"
     ]
    }
   ],
   "source": [
    "# 위의 ETs들을 모두 곱하면 base frame에서 나타낸 end effector의 frame을 나타낸다.\n",
    "q = np.array([0, -0.3, 0, -2.2, 0, 2, 0.79])\n",
    "fk = np.eye(4)\n",
    "\n",
    "for et in panda:\n",
    "    if et.isjoint:\n",
    "        fk = fk @ et.A(q[et.jindex])\n",
    "    else:\n",
    "        fk = fk @ et.A()\n",
    "print(sm.SE3(fk))"
   ]
  },
  {
   "cell_type": "code",
   "execution_count": 80,
   "id": "a07a4dd1-6931-43a8-ab76-d6a52a750afe",
   "metadata": {},
   "outputs": [
    {
     "name": "stdout",
     "output_type": "stream",
     "text": [
      "  \u001b[38;5;1m 0.7003  \u001b[0m \u001b[38;5;1m-0.7068  \u001b[0m \u001b[38;5;1m 0.09983 \u001b[0m \u001b[38;5;4m 0.4737  \u001b[0m  \u001b[0m\n",
      "  \u001b[38;5;1m-0.7104  \u001b[0m \u001b[38;5;1m-0.7038  \u001b[0m \u001b[38;5;1m 0       \u001b[0m \u001b[38;5;4m 0       \u001b[0m  \u001b[0m\n",
      "  \u001b[38;5;1m 0.07027 \u001b[0m \u001b[38;5;1m-0.07092 \u001b[0m \u001b[38;5;1m-0.995   \u001b[0m \u001b[38;5;4m 0.5155  \u001b[0m  \u001b[0m\n",
      "  \u001b[38;5;244m 0       \u001b[0m \u001b[38;5;244m 0       \u001b[0m \u001b[38;5;244m 0       \u001b[0m \u001b[38;5;244m 1       \u001b[0m  \u001b[0m\n",
      "\n",
      "\n",
      "Type of fkine: \n",
      "<class 'spatialmath.pose3d.SE3'>\n",
      "\n",
      "If you want type of numpy -> eval(): \n",
      "[[ 7.00329021e-01 -7.06804465e-01  9.98334166e-02  4.73724040e-01]\n",
      " [-7.10353272e-01 -7.03845316e-01 -1.22464680e-16 -1.31037208e-17]\n",
      " [ 7.02672827e-02 -7.09169942e-02 -9.95004165e-01  5.15513206e-01]\n",
      " [ 0.00000000e+00  0.00000000e+00  0.00000000e+00  1.00000000e+00]]\n",
      "\n",
      "Type of eval: \n",
      "<class 'numpy.ndarray'>\n"
     ]
    }
   ],
   "source": [
    "#fkine함수를 사용해도 된다\n",
    "print(panda.fkine(q))\n",
    "print()\n",
    "\n",
    "print(\"Type of fkine: \")\n",
    "print(type(panda.fkine(q)))\n",
    "print()\n",
    "\n",
    "print(\"If you want type of numpy -> eval(): \")\n",
    "print(panda.eval(q))\n",
    "print()\n",
    "\n",
    "print(\"Type of eval: \")\n",
    "print(type(panda.eval(q)))"
   ]
  }
 ],
 "metadata": {
  "kernelspec": {
   "display_name": "Python 3 (ipykernel)",
   "language": "python",
   "name": "python3"
  },
  "language_info": {
   "codemirror_mode": {
    "name": "ipython",
    "version": 3
   },
   "file_extension": ".py",
   "mimetype": "text/x-python",
   "name": "python",
   "nbconvert_exporter": "python",
   "pygments_lexer": "ipython3",
   "version": "3.10.12"
  }
 },
 "nbformat": 4,
 "nbformat_minor": 5
}
