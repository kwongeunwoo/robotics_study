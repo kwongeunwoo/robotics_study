{
 "cells": [
  {
   "cell_type": "code",
   "execution_count": 26,
   "id": "ee2e053d-5020-47a5-a6aa-2052743ae99d",
   "metadata": {},
   "outputs": [],
   "source": [
    "# numpy provides import array and linear algebra utilities\n",
    "import numpy as np\n",
    "\n",
    "# the robotics toolbox provides robotics specific functionality\n",
    "import roboticstoolbox as rtb\n",
    "\n",
    "# spatial math provides objects for representing transformations\n",
    "import spatialmath as sm\n",
    "import spatialmath.base as smb\n",
    "\n",
    "# use timeit to benchmark some methods\n",
    "from timeit import default_timer as timer\n",
    "\n",
    "# ansitable is a great package for printing tables in a terminal\n",
    "from ansitable import ANSITable"
   ]
  },
  {
   "cell_type": "markdown",
   "id": "a665a5b5-d97c-4c4f-b1de-0fae19579c72",
   "metadata": {},
   "source": [
    "# 2.1 Utility Functions"
   ]
  },
  {
   "cell_type": "code",
   "execution_count": 27,
   "id": "5c9edd83-0914-4fb4-9fb6-4ecd20df6f17",
   "metadata": {},
   "outputs": [],
   "source": [
    "# 첫 번째 식은 so(3) -> R^3, 두 번째 식은 R^3 -> so(3), 세 번째 식은 se(3) -> R^6, 네 번째 식은 R^6 -> se(3)로 map 해주는 function. "
   ]
  },
  {
   "cell_type": "markdown",
   "id": "db86e2ad-f189-4b30-8e1a-1b984586741d",
   "metadata": {},
   "source": [
    "![skew symmetric matrix](image/skew_symmetric.png)"
   ]
  },
  {
   "cell_type": "code",
   "execution_count": 28,
   "id": "0526d573-da43-4b96-88ef-26cb10b60dd3",
   "metadata": {},
   "outputs": [],
   "source": [
    "# 위 수식을 함수로 나타내기\n",
    "def vex(mat):\n",
    "    '''\n",
    "    Converts a 3x3 skew symmetric matric to a 3 vector\n",
    "    '''\n",
    "\n",
    "    return np.array([mat[2, 1], mat[0, 2], mat[1, 0]])\n",
    "\n",
    "def skew(vec):\n",
    "    '''\n",
    "    Converts a 3 vector to a 3x3 skew symmetric matrix\n",
    "    '''\n",
    "\n",
    "    return np.array([\n",
    "        [0, -vec[2], vec[1]],\n",
    "        [vec[2], 0, -vec[0]],\n",
    "        [-vec[1], vec[0], 0]\n",
    "    ])\n",
    "\n",
    "\n",
    "def vexa(mat):\n",
    "    '''\n",
    "    Converts a 4x4 augmented skew symmetric matric to a 6 vector\n",
    "    '''\n",
    "\n",
    "    return np.array([mat[0, 3], mat[1, 3], mat[2, 3], mat[2, 1], mat[0, 2], mat[1, 0]])\n",
    "\n",
    "def skewa(vec):\n",
    "    '''\n",
    "    Converts a 6 vector to a 4x4 augmented skew symmetric matrix\n",
    "    '''\n",
    "\n",
    "    return np.array([\n",
    "        [0, -vec[5], vec[4], vec[0]],\n",
    "        [vec[5], 0, -vec[3], vec[1]],\n",
    "        [-vec[4], vec[3], 0, vec[2]],\n",
    "        [0, 0, 0, 0]\n",
    "    ])\n",
    "    "
   ]
  },
  {
   "cell_type": "code",
   "execution_count": 29,
   "id": "85e9916b-c042-4c9d-9be7-e8b8dee0625d",
   "metadata": {},
   "outputs": [
    {
     "name": "stdout",
     "output_type": "stream",
     "text": [
      "x: \n",
      "[1 2 3]\n",
      "\n",
      "==============================\n",
      "skew(x): \n",
      "\n",
      "[[ 0 -3  2]\n",
      " [ 3  0 -1]\n",
      " [-2  1  0]]\n",
      "\n",
      "==============================\n",
      "vex(x): \n",
      "\n",
      "[1 2 3]\n",
      "\n",
      "==============================\n",
      "y: \n",
      "[1 2 3 4 5 6]\n",
      "\n",
      "==============================\n",
      "skewa(y): \n",
      "\n",
      "[[ 0 -6  5  1]\n",
      " [ 6  0 -4  2]\n",
      " [-5  4  0  3]\n",
      " [ 0  0  0  0]]\n",
      "\n",
      "==============================\n",
      "vexa(y): \n",
      "\n",
      "[1 2 3 4 5 6]\n",
      "\n"
     ]
    }
   ],
   "source": [
    "# 예시\n",
    "x = np.array([1,2,3])\n",
    "print(\"x: \")\n",
    "print(x)\n",
    "print()\n",
    "\n",
    "print(\"=\"*30)\n",
    "print(\"skew(x): \")\n",
    "print()\n",
    "print(skew(x))\n",
    "print()\n",
    "\n",
    "print(\"=\"*30)\n",
    "print(\"vex(x): \")\n",
    "print()\n",
    "print(vex(skew(x)))\n",
    "print()\n",
    "\n",
    "y = np.array([1,2,3,4,5,6])\n",
    "print(\"=\"*30)\n",
    "print(\"y: \")\n",
    "print(y)\n",
    "print()\n",
    "\n",
    "print(\"=\"*30)\n",
    "print(\"skewa(y): \")\n",
    "print()\n",
    "print(skewa(y))\n",
    "print()\n",
    "\n",
    "print(\"=\"*30)\n",
    "print(\"vexa(y): \")\n",
    "print()\n",
    "print(vexa(skewa(y)))\n",
    "print()"
   ]
  },
  {
   "cell_type": "code",
   "execution_count": 30,
   "id": "a4a0f4b5-00e6-45c3-a57e-e7230743b1b7",
   "metadata": {},
   "outputs": [],
   "source": [
    "def ρ(tf):\n",
    "    '''\n",
    "    The method extracts the rotational component from an SE3\n",
    "    '''\n",
    "    return tf[:3, :3]\n",
    "\n",
    "def τ(tf):\n",
    "    '''\n",
    "    The method extracts the translation component from an SE3\n",
    "    '''\n",
    "    return tf[:3, 3]"
   ]
  },
  {
   "cell_type": "markdown",
   "id": "43764d03-1536-4dde-9e01-064f95324328",
   "metadata": {},
   "source": [
    "# 2.2 Derivative of a Pure Rotation"
   ]
  },
  {
   "cell_type": "markdown",
   "id": "94c4b471-9332-45ee-8460-4c444b9d4a19",
   "metadata": {},
   "source": [
    "![derivativ_rotation](image/derivativ_rotation.png)"
   ]
  },
  {
   "cell_type": "code",
   "execution_count": 31,
   "id": "e06da315-ad8c-4bf6-a187-8a765d7e1b5d",
   "metadata": {},
   "outputs": [
    {
     "name": "stdout",
     "output_type": "stream",
     "text": [
      "==============================\n",
      "flip:  False\n",
      "dTRx(theta):\n",
      "\n",
      "[[0 0 0 0]\n",
      " [0 -sin(theta) -cos(theta) 0]\n",
      " [0 cos(theta) -sin(theta) 0]\n",
      " [0 0 0 0]]\n",
      "==============================\n",
      "flip:  False\n",
      "dTRy(theta):\n",
      "\n",
      "[[-sin(theta) 0 cos(theta) 0]\n",
      " [0 0 0 0]\n",
      " [-cos(theta) 0 -sin(theta) 0]\n",
      " [0 0 0 0]]\n",
      "==============================\n",
      "flip:  True\n",
      "dTRz(theta):\n",
      "\n",
      "[[-sin(theta) cos(theta) 0 0]\n",
      " [-cos(theta) -sin(theta) 0 0]\n",
      " [0 0 0 0]\n",
      " [0 0 0 0]]\n",
      "==============================\n"
     ]
    }
   ],
   "source": [
    "import sympy as sp\n",
    "# 기호 정의\n",
    "theta = sp.symbols('theta')\n",
    "\n",
    "def dTRx(theta, flip):\n",
    "    print(\"flip: \", flip)\n",
    "    print(\"dTRx(theta):\")\n",
    "    print()\n",
    "    \n",
    "    Rhx = np.array([\n",
    "        [0, 0, 0, 0],\n",
    "        [0, 0, -1, 0],\n",
    "        [0, 1, 0, 0],\n",
    "        [0, 0, 0, 0]])\n",
    "    Trx = rtb.ET.Rx().A(theta)\n",
    "\n",
    "    if flip:\n",
    "        print(Rhx.T @ Trx.T)\n",
    "        return Rhx.T @ Trx.T\n",
    "    else:\n",
    "        print(Rhx @ Trx)\n",
    "        return Rhx @ Trx\n",
    "\n",
    "\n",
    "def dTRy(theta, flip):\n",
    "    print(\"flip: \", flip)\n",
    "    print(\"dTRy(theta):\")\n",
    "    print()\n",
    "    \n",
    "    Rhy = np.array([\n",
    "        [0, 0, 1, 0],\n",
    "        [0, 0, 0, 0],\n",
    "        [-1, 0, 0, 0],\n",
    "        [0, 0, 0, 0]])\n",
    "    Try = smb.troty(theta) #위의 rtb.ET.Ry()랑 같음\n",
    "    \n",
    "    if flip:\n",
    "        print(Rhy.T @ Try.T)\n",
    "        return Rhy.T @ Try.T\n",
    "    else:\n",
    "        print(Rhy @ Try)\n",
    "        return Rhy @ Try\n",
    "    \n",
    "def dTRz(theta, flip):\n",
    "    print(\"flip: \", flip)\n",
    "    print(\"dTRz(theta):\")\n",
    "    print()\n",
    "    \n",
    "    Rhz = np.array([\n",
    "        [0, -1, 0, 0],\n",
    "        [1, 0, 0, 0],\n",
    "        [0, 0, 0, 0],\n",
    "        [0, 0, 0, 0]])\n",
    "    Trz = smb.trotz(theta)\n",
    "    \n",
    "    if flip:\n",
    "        print(Rhz.T @ Trz.T)\n",
    "        return Rhz.T @ Trz.T\n",
    "    else:\n",
    "        print(Rhz @ Trz)\n",
    "        return Rhz @ Trz\n",
    "    \n",
    "print(\"=\"*30)\n",
    "dTRx(theta,False)\n",
    "print(\"=\"*30)\n",
    "\n",
    "dTRy(theta,False)\n",
    "print(\"=\"*30)\n",
    "\n",
    "dTRz(theta,True)\n",
    "print(\"=\"*30)"
   ]
  },
  {
   "cell_type": "markdown",
   "id": "b82f799b-ab84-479b-8f07-2d243d565ae0",
   "metadata": {},
   "source": [
    "# 2.3 Derivative of a Pure Translation"
   ]
  },
  {
   "cell_type": "markdown",
   "id": "99677b3b-4726-481a-b595-ec052f4dd7cd",
   "metadata": {},
   "source": [
    "![Derivative_of_a_Pure_Translation](image/Derivative_of_a_Pure_Translation.png)"
   ]
  },
  {
   "cell_type": "code",
   "execution_count": 32,
   "id": "0ae14027-3eae-4312-bf0c-b1185d29abee",
   "metadata": {},
   "outputs": [],
   "source": [
    "def dTtx():\n",
    "    '''\n",
    "    Calculates the derivative of an SE3 which is a pure translation along\n",
    "    the x-axis by amount d\n",
    "    '''\n",
    "    # This is the [That_x] matrix in the maths above\n",
    "    Thx = np.array([\n",
    "        [0, 0, 0, 1],\n",
    "        [0, 0, 0, 0],\n",
    "        [0, 0, 0, 0],\n",
    "        [0, 0, 0, 0]\n",
    "    ])\n",
    "\n",
    "    return Thx\n",
    "\n",
    "def dTty():\n",
    "    '''\n",
    "    Calculates the derivative of an SE3 which is a pure translation along\n",
    "    the y-axis by amount d\n",
    "    '''\n",
    "    # This is the [That_y] matrix in the maths above\n",
    "    Thy = np.array([\n",
    "        [0, 0, 0, 0],\n",
    "        [0, 0, 0, 1],\n",
    "        [0, 0, 0, 0],\n",
    "        [0, 0, 0, 0]\n",
    "    ])\n",
    "\n",
    "    return Thy\n",
    "\n",
    "def dTtz():\n",
    "    '''\n",
    "    Calculates the derivative of an SE3 which is a pure translation along\n",
    "    the z-axis by amount d\n",
    "    '''\n",
    "    # This is the [That_z] matrix in the maths above\n",
    "    Thz = np.array([\n",
    "        [0, 0, 0, 0],\n",
    "        [0, 0, 0, 0],\n",
    "        [0, 0, 0, 1],\n",
    "        [0, 0, 0, 0]\n",
    "    ])\n",
    "\n",
    "    return Thz"
   ]
  },
  {
   "cell_type": "markdown",
   "id": "9b61eef1-0b79-453a-87a8-1d91f452fbb4",
   "metadata": {},
   "source": [
    "# 2.4 The Manipulator Jacobian"
   ]
  },
  {
   "cell_type": "code",
   "execution_count": 38,
   "id": "98e9381f-ca13-464a-aedb-c9cb2fd7c9a8",
   "metadata": {},
   "outputs": [
    {
     "name": "stdout",
     "output_type": "stream",
     "text": [
      "<class 'roboticstoolbox.robot.ETS.ETS'>\n"
     ]
    }
   ],
   "source": [
    "# Before going any further, lets remake the panda model we made in the first notebook\n",
    "E1 = rtb.ET.tz(0.333) \n",
    "E2 = rtb.ET.Rz()\n",
    "E3 = rtb.ET.Ry() \n",
    "E4 = rtb.ET.tz(0.316) \n",
    "E5 = rtb.ET.Rz()\n",
    "E6 = rtb.ET.tx(0.0825) \n",
    "E7 = rtb.ET.Ry(flip=True) \n",
    "E8 = rtb.ET.tx(-0.0825) \n",
    "E9 = rtb.ET.tz(0.384) \n",
    "E10 = rtb.ET.Rz()\n",
    "E11 = rtb.ET.Ry(flip=True)\n",
    "E12 = rtb.ET.tx(0.088) \n",
    "E13 = rtb.ET.Rx(np.pi / 2) \n",
    "E14 = rtb.ET.tz(0.107)\n",
    "E15 = rtb.ET.Rz()\n",
    "panda = E1 * E2 * E3 * E4 * E5 * E6 * E7 * E8 * E9 * E10 * E11 * E12 * E13 * E14 * E15\n",
    "print(type(panda))\n",
    "\n",
    "# And make a joint coordinate array q\n",
    "q = np.array([0, -0.3, 0, -2.2, 0, 2, 0.79])"
   ]
  },
  {
   "cell_type": "markdown",
   "id": "db345556-7308-4940-b985-e793f4cd905c",
   "metadata": {},
   "source": [
    "![ETS](image/ETS.png)"
   ]
  },
  {
   "cell_type": "code",
   "execution_count": 34,
   "id": "1bba21d4-59e2-4b2e-8c51-2fa872d76a7a",
   "metadata": {},
   "outputs": [],
   "source": [
    "def dET(et, η):\n",
    "    '''\n",
    "    This method takes an ET and returns the derivative with respect to the joint coordinate\n",
    "    This is here for convenience\n",
    "    '''\n",
    "\n",
    "    if et.axis == 'Rx':\n",
    "        return dTRx(η, et.isflip)\n",
    "    elif et.axis == 'Ry':\n",
    "        return dTRy(η, et.isflip)\n",
    "    elif et.axis == 'Rz':\n",
    "        return dTRz(η, et.isflip)\n",
    "    elif et.axis == 'tx':\n",
    "        return dTtx()\n",
    "    elif et.axis == 'ty':\n",
    "        return dTty()\n",
    "    else:\n",
    "        return dTtz()"
   ]
  },
  {
   "cell_type": "code",
   "execution_count": 35,
   "id": "bc1aa974-f5ea-486b-a75a-87ea1e76cd69",
   "metadata": {},
   "outputs": [],
   "source": [
    "def dT_j(ets, j, q):\n",
    "    '''\n",
    "    This methods calculates the dervative of an SE3 with respect to joint coordinate j\n",
    "    '''\n",
    "\n",
    "    # Allocate an identity matrix for the result\n",
    "    dT = np.eye(4)\n",
    "\n",
    "    # Find the jth variable et in the ets\n",
    "    et_j = ets.joints()[j]\n",
    "\n",
    "    # Loop overs the ETs in the robot ETS\n",
    "    for et in ets:\n",
    "        if et == et_j:\n",
    "            # This ET is variable and corresponds to joint j\n",
    "            dT = dT @ dET(et, q[et.jindex])\n",
    "        elif et.isjoint:\n",
    "            # This ET is a variable joint\n",
    "            # Use the q array to specify the joint angle for the variable ET\n",
    "            dT = dT @ et.A(q[et.jindex])\n",
    "        else:\n",
    "            # This ET is static\n",
    "            dT = dT @ et.A()\n",
    "\n",
    "    return dT"
   ]
  },
  {
   "cell_type": "markdown",
   "id": "adab6194-55b6-460a-b5c7-562f58024213",
   "metadata": {},
   "source": [
    "![J_w](image/J_w.png)"
   ]
  },
  {
   "cell_type": "code",
   "execution_count": 36,
   "id": "9c591a31-d33a-4812-bbcf-4320c8f2242f",
   "metadata": {},
   "outputs": [],
   "source": [
    "def Jω_j(ets, j, q):\n",
    "    '''\n",
    "    This method calculates the rotational component of the jth column of the manipulator Jacobian\n",
    "    '''\n",
    "\n",
    "    # Calculate the forward kinematics at q\n",
    "    T = ets.eval(q)\n",
    "\n",
    "    # Calculate the derivative of T with respect to q_j\n",
    "    dT = dT_j(ets, j, q)\n",
    "\n",
    "    Jω = vex(ρ(dT) @ (ρ(T).T))\n",
    "\n",
    "    return Jω"
   ]
  },
  {
   "cell_type": "code",
   "execution_count": 37,
   "id": "29a2647a-5e59-4be4-ab4b-4b094e5ce6cf",
   "metadata": {},
   "outputs": [
    {
     "name": "stdout",
     "output_type": "stream",
     "text": [
      "flip:  False\n",
      "dTRz(theta):\n",
      "\n",
      "[[ 0. -1.  0.  0.]\n",
      " [ 1.  0.  0.  0.]\n",
      " [ 0.  0.  0.  0.]\n",
      " [ 0.  0.  0.  0.]]\n",
      "[-2.95520207e-01 -6.22199256e-33  9.55336489e-01]\n"
     ]
    }
   ],
   "source": [
    "# Calculate the angular component of the third column of Panda manipulator Jacobian\n",
    "print(Jω_j(panda, 2, q))"
   ]
  }
 ],
 "metadata": {
  "kernelspec": {
   "display_name": "Python 3 (ipykernel)",
   "language": "python",
   "name": "python3"
  },
  "language_info": {
   "codemirror_mode": {
    "name": "ipython",
    "version": 3
   },
   "file_extension": ".py",
   "mimetype": "text/x-python",
   "name": "python",
   "nbconvert_exporter": "python",
   "pygments_lexer": "ipython3",
   "version": "3.10.12"
  }
 },
 "nbformat": 4,
 "nbformat_minor": 5
}
