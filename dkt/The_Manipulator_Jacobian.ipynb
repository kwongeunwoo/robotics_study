{
 "cells": [
  {
   "cell_type": "code",
   "execution_count": 8,
   "id": "ee2e053d-5020-47a5-a6aa-2052743ae99d",
   "metadata": {},
   "outputs": [],
   "source": [
    "# numpy provides import array and linear algebra utilities\n",
    "import numpy as np\n",
    "\n",
    "# the robotics toolbox provides robotics specific functionality\n",
    "import roboticstoolbox as rtb\n",
    "\n",
    "# spatial math provides objects for representing transformations\n",
    "import spatialmath as sm\n",
    "import spatialmath.base as smb\n",
    "\n",
    "# use timeit to benchmark some methods\n",
    "from timeit import default_timer as timer\n",
    "\n",
    "# ansitable is a great package for printing tables in a terminal\n",
    "from ansitable import ANSITable"
   ]
  },
  {
   "cell_type": "markdown",
   "id": "a665a5b5-d97c-4c4f-b1de-0fae19579c72",
   "metadata": {},
   "source": [
    "# 2.1 Utility Functions"
   ]
  },
  {
   "cell_type": "code",
   "execution_count": null,
   "id": "5c9edd83-0914-4fb4-9fb6-4ecd20df6f17",
   "metadata": {},
   "outputs": [],
   "source": [
    "# 첫 번째 식은 so(3) -> R^3, 두 번째 식은 R^3 -> so(3), 세 번째 식은 se(3) -> R^6, 네 번째 식은 R^6 -> se(3)로 map 해주는 function. "
   ]
  },
  {
   "cell_type": "markdown",
   "id": "db86e2ad-f189-4b30-8e1a-1b984586741d",
   "metadata": {},
   "source": [
    "![skew symmetric matrix](image/skew_symmetric.png)"
   ]
  },
  {
   "cell_type": "code",
   "execution_count": null,
   "id": "0526d573-da43-4b96-88ef-26cb10b60dd3",
   "metadata": {},
   "outputs": [],
   "source": []
  }
 ],
 "metadata": {
  "kernelspec": {
   "display_name": "Python 3 (ipykernel)",
   "language": "python",
   "name": "python3"
  },
  "language_info": {
   "codemirror_mode": {
    "name": "ipython",
    "version": 3
   },
   "file_extension": ".py",
   "mimetype": "text/x-python",
   "name": "python",
   "nbconvert_exporter": "python",
   "pygments_lexer": "ipython3",
   "version": "3.10.12"
  }
 },
 "nbformat": 4,
 "nbformat_minor": 5
}
