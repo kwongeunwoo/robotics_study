{
 "cells": [
  {
   "cell_type": "code",
   "execution_count": 2,
   "id": "4942bc57-baf7-4a4f-927d-64e594ecf4f3",
   "metadata": {},
   "outputs": [],
   "source": [
    "# numpy provides import array and linear algebra utilities\n",
    "import numpy as np\n",
    "\n",
    "# the robotics toolbox provides robotics specific functionality\n",
    "import roboticstoolbox as rtb\n",
    "\n",
    "# spatial math provides objects for representing transformations\n",
    "import spatialmath as sm"
   ]
  },
  {
   "cell_type": "code",
   "execution_count": 3,
   "id": "731ff374-9c39-4021-8ba6-607113d62ad3",
   "metadata": {},
   "outputs": [
    {
     "name": "stdout",
     "output_type": "stream",
     "text": [
      "Rx(q)\n",
      "Rx(90°)\n"
     ]
    }
   ],
   "source": [
    "#변수로 Rotation Matrix 선언하기\n",
    "Rotx = rtb.ET.Rx()\n",
    "#상스로 Rotation Matrix 선언하기\n",
    "Rotx_c = rtb.ET.Rx(np.pi / 2)\n",
    "\n",
    "print(Rotx)\n",
    "print(Rotx_c)"
   ]
  },
  {
   "cell_type": "code",
   "execution_count": null,
   "id": "7f274c71-bec7-482e-acc9-6c3afcd8eaca",
   "metadata": {},
   "outputs": [],
   "source": []
  }
 ],
 "metadata": {
  "kernelspec": {
   "display_name": "Python 3 (ipykernel)",
   "language": "python",
   "name": "python3"
  },
  "language_info": {
   "codemirror_mode": {
    "name": "ipython",
    "version": 3
   },
   "file_extension": ".py",
   "mimetype": "text/x-python",
   "name": "python",
   "nbconvert_exporter": "python",
   "pygments_lexer": "ipython3",
   "version": "3.10.12"
  }
 },
 "nbformat": 4,
 "nbformat_minor": 5
}
